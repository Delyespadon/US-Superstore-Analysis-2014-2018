{
 "cells": [
  {
   "cell_type": "markdown",
   "id": "3f62207b-372e-4228-aced-4ce430df7afb",
   "metadata": {},
   "source": [
    "# Superstore Data Analysis Notebook\n",
    "## 1) Libraries importation "
   ]
  },
  {
   "cell_type": "code",
   "execution_count": null,
   "id": "c1ef17c5-57da-4b33-b3f6-3873bc394cea",
   "metadata": {},
   "outputs": [],
   "source": [
    "# Importing of differents libraries\n",
    "import pandas as pd \n",
    "import matplotlib.pyplot as plt \n",
    "import scipy.stats as stats\n",
    "import seaborn as sns\n"
   ]
  },
  {
   "cell_type": "markdown",
   "id": "699bfad4-99c4-4742-a661-720396f2d504",
   "metadata": {},
   "source": [
    "## 2) Data set loading "
   ]
  },
  {
   "cell_type": "code",
   "execution_count": null,
   "id": "7acc0e74-dca9-409e-b761-2b8969be813d",
   "metadata": {
    "scrolled": true
   },
   "outputs": [],
   "source": [
    "# Loading of the dataset \n",
    "df = pd.read_csv(r\"C:/Users/Espadon/Desktop/Sample _Superstore.csv\", encoding='ISO-8859-1')\n",
    "df.head()\n",
    "\n"
   ]
  },
  {
   "cell_type": "markdown",
   "id": "311d44a0-528c-44af-909d-dca6e26dce26",
   "metadata": {},
   "source": [
    "## 3) Data set cleaning"
   ]
  },
  {
   "cell_type": "code",
   "execution_count": null,
   "id": "d8394910-091f-477b-8bfe-38bba345bb57",
   "metadata": {},
   "outputs": [],
   "source": [
    "# Checking for duplicated values\n",
    "print(\"Number of duplicated rows:\", df.duplicated().sum())\n",
    "\n",
    "# 2) Checking for missing values\n",
    "print(\"\\nMissing values per column:\", df.isna().sum())\n",
    "\n",
    "# Dropping duplicates\n",
    "df = df.drop_duplicates()\n",
    "\n",
    "\n",
    "\n"
   ]
  },
  {
   "cell_type": "markdown",
   "id": "3095b8f7-97d3-4763-94f3-90a087962cef",
   "metadata": {},
   "source": [
    "## 4) Data preparation"
   ]
  },
  {
   "cell_type": "code",
   "execution_count": null,
   "id": "a0f535b0-e306-49b0-b9f2-436cbc68a8e5",
   "metadata": {},
   "outputs": [],
   "source": [
    "# Number of rows and columns\n",
    "print(\"Shape of the dataset (rows, columns):\", df.shape)\n",
    "\n",
    "# Or get a concise summary of the DataFrame\n",
    "print(\"\\nSummary of the dataset:\")\n",
    "df.info()\n",
    "\n",
    "# Data preparation \n",
    "df['Profit Margin'] = df['Profit'] / df['Sales'] * 100\n",
    "df['Profit Margin'].head() "
   ]
  },
  {
   "cell_type": "markdown",
   "id": "861d8760-3766-49c7-9b4a-d7b1ee408da6",
   "metadata": {},
   "source": [
    "## 5) Exploratory Data Analysis(EDA)\n",
    "### a)  Basics information and Summary Statistics"
   ]
  },
  {
   "cell_type": "code",
   "execution_count": null,
   "id": "5aaec366-d43a-4b46-808c-65f9c8171df4",
   "metadata": {},
   "outputs": [],
   "source": [
    "# Basic information\n",
    "print(df.info())\n",
    "print(df.describe())\n",
    "\n",
    "# Unique categories\n",
    "print(df['Category'].unique())\n",
    "print(df['Region'].unique())\n",
    "print(df[\"Segment\"].unique())\n",
    "print(df['Sub-Category'].unique())\n",
    "\n",
    "# Count of orders by region\n",
    "print(df['Region'].value_counts())\n",
    "```\n",
    "# Summary Statistics\n",
    "summary_stats = df[['Sales', 'Profit', 'Discount', 'Profit Margin']].describe()\n",
    "summary_stats \n"
   ]
  },
  {
   "cell_type": "markdown",
   "id": "050b999c-b4c4-40cb-bb94-e5325a42b27d",
   "metadata": {},
   "source": [
    "### b) Profit margin \n",
    "#### * Accross regions "
   ]
  },
  {
   "cell_type": "code",
   "execution_count": null,
   "id": "a4fbd17e-9386-426b-83a9-afb5537fca13",
   "metadata": {},
   "outputs": [],
   "source": [
    "# Analyze the profit margin by regions \n",
    "# ANOVA Test:\n",
    "anova_result1 = stats.f_oneway(df[df['Region'] == 'East']['Profit Margin'],\n",
    "                              df[df['Region'] == 'West']['Profit Margin'],\n",
    "                              df[df['Region'] == 'South']['Profit Margin'],\n",
    "                              df[df['Region'] == 'Central']['Profit Margin'])\n",
    "# Output results\n",
    "print(\"F-value:\", anova_result1.statistic)\n",
    "print(\"P-value:\", anova_result1.pvalue)\n",
    "\n",
    "if anova_result1.pvalue < 0.05:\n",
    "    print(\"Conclusion: There are significant differences in profit margins across regions.\")\n",
    "else:\n",
    "    print(\"Conclusion: There are no significant differences in profit margins across regions.\")\n"
   ]
  },
  {
   "cell_type": "code",
   "execution_count": null,
   "id": "3a8d9844-4add-4544-a20f-2554f75f7ba9",
   "metadata": {},
   "outputs": [],
   "source": [
    "# Boxplot for profit margin by region\n",
    "plt.figure(figsize=(8, 6))\n",
    "sns.boxplot(data=df, x='Region', y='Profit Margin', palette='Set2')\n",
    "plt.title('Profit margin  Distribution by Region')\n",
    "plt.xlabel('Region')\n",
    "plt.ylabel('Profit margin')\n",
    "plt.show()"
   ]
  },
  {
   "cell_type": "markdown",
   "id": "86b97f94-0892-4bfe-b2f1-4348886ccc25",
   "metadata": {},
   "source": [
    "#### * Accross differents categories"
   ]
  },
  {
   "cell_type": "code",
   "execution_count": null,
   "id": "71dd27bc-67c3-49a6-b621-c0a50b3150a9",
   "metadata": {},
   "outputs": [],
   "source": [
    "#2) analyze profit margin across Category \n",
    "anova_result2 = stats.f_oneway(df[df[\"Category\"] == \"Furniture\"]['Profit Margin'],\n",
    "                               df[df[\"Category\"] == \"Office Supplies\"]['Profit Margin'],\n",
    "                               df[df[\"Category\"] == \"Technology\"]['Profit Margin'])\n",
    "# Output results\n",
    "print(\"F-value:\", anova_result2.statistic)\n",
    "print(\"P-value:\", anova_result2.pvalue)\n",
    "\n",
    "if anova_result2.pvalue < 0.05:\n",
    "    print(\"Conclusion: There are significant differences in profit margins across produts category.\")\n",
    "else:\n",
    "    print(\"Conclusion: There are no significant differences in profit margins across product category.\")"
   ]
  },
  {
   "cell_type": "code",
   "execution_count": null,
   "id": "559a4055-32cb-47d4-84ea-178a006e0cd9",
   "metadata": {},
   "outputs": [],
   "source": [
    "# Boxplot for profit margin by category\n",
    "plt.figure(figsize=(8, 6))\n",
    "sns.boxplot(data=df, x='category', y='Profit Margin', palette='Set2')\n",
    "plt.title('Profit margin Distribution by category')\n",
    "plt.xlabel('Category')\n",
    "plt.ylabel('Profit margin')\n",
    "plt.show()"
   ]
  },
  {
   "cell_type": "markdown",
   "id": "212fc070-7a89-4369-87f1-97e59015fc86",
   "metadata": {},
   "source": [
    "#### * Accross differents segments "
   ]
  },
  {
   "cell_type": "code",
   "execution_count": null,
   "id": "b08fda20-71a7-498c-b5cd-9fd4f17461cb",
   "metadata": {},
   "outputs": [],
   "source": [
    "#2)  profit margin across segment \n",
    "anova_result3 = stats.f_oneway(df[df[\"Segment\"] == \"Consumer\"]['Profit Margin'],\n",
    "                               df[df[\"segment\"] == \"Corporate\"]['Profit Margin'],\n",
    "                               df[df[\"Segment\"] == \"Home Office\"]['Profit Margin'])\n",
    "# Output results\n",
    "print(\"F-value:\", anova_result3.statistic)\n",
    "print(\"P-value:\", anova_result3.pvalue)\n",
    "\n",
    "if anova_result3.pvalue < 0.05:\n",
    "    print(\"Conclusion: There are significant differences in profit margins across segment.\")\n",
    "else:\n",
    "    print(\"Conclusion: There are no significant differences in profit margins across segment.\")\n"
   ]
  },
  {
   "cell_type": "code",
   "execution_count": null,
   "id": "216bfdb8-7f46-4e13-92bd-6273d788b515",
   "metadata": {},
   "outputs": [],
   "source": [
    "# Boxplot for profit margin by segment\n",
    "plt.figure(figsize=(8, 6))\n",
    "sns.boxplot(data=df, x='segment', y='Profit Margin', palette='Set2')\n",
    "plt.title('Profit margin distribution by segment')\n",
    "plt.xlabel('segment')\n",
    "plt.ylabel('Profit margin')\n",
    "plt.show()\n"
   ]
  },
  {
   "cell_type": "markdown",
   "id": "78943199-ff65-42c8-9228-320999340a3e",
   "metadata": {},
   "source": [
    "#### * Accross subcategory "
   ]
  },
  {
   "cell_type": "code",
   "execution_count": null,
   "id": "e07da05a-9ba6-40b3-8359-299aeae9c2e4",
   "metadata": {},
   "outputs": [],
   "source": [
    "# Boxplot for profit margin by subcategory\n",
    "plt.figure(figsize=(8, 6))\n",
    "sns.boxplot(data=df, x='Sub-Category', y='Profit Margin', palette='Set2') \n",
    "plt.title('Profit Margin Distribution by Sub-category')\n",
    "plt.xticks(rotation=45, fontsize=8) \n",
    "plt.xlabel('Sub-category')\n",
    "plt.ylabel('Profit Margin (%)')\n",
    "plt.tight_layout()  \n",
    "plt.show()"
   ]
  },
  {
   "cell_type": "markdown",
   "id": "663afb99-22bf-4422-b169-ee1bed447ccd",
   "metadata": {},
   "source": [
    "#### c) Products category accross regions "
   ]
  },
  {
   "cell_type": "code",
   "execution_count": null,
   "id": "87d99d48-c31e-4b0f-ae84-d10b59dd3273",
   "metadata": {},
   "outputs": [],
   "source": [
    "# Cross-tabulation: Category vs. Region\n",
    "category_region = pd.crosstab(df['Category'], df['Region'])\n",
    "print(\"Category vs. Region:\")\n",
    "category_region\n",
    "# Stacked Bar Chart: Category vs. Region\n",
    "category_region.plot(kind='bar', stacked=True, figsize=(10, 6))\n",
    "plt.title('Category Distribution by Region')\n",
    "plt.xlabel('Category')\n",
    "plt.ylabel('Count')\n",
    "plt.xticks(rotation=45)\n",
    "plt.show()"
   ]
  },
  {
   "cell_type": "markdown",
   "id": "269fdf12-1501-4ccd-9fa0-3bb92999ab9f",
   "metadata": {},
   "source": [
    "#### d) Products  sub-category  accross regions "
   ]
  },
  {
   "cell_type": "code",
   "execution_count": null,
   "id": "ea2b5c24-2081-4edf-ad78-82aa0fe46e8a",
   "metadata": {},
   "outputs": [],
   "source": [
    "# Heatmap: Sub-Category vs. Region\n",
    "plt.figure(figsize=(10, 6))\n",
    "sns.heatmap(subcategory_region, annot=True, fmt='d', cmap='Blues')\n",
    "plt.title('Sub-Category Distribution by Region')\n",
    "plt.xlabel('Region')\n",
    "plt.ylabel('Sub-Category')\n",
    "plt.show()"
   ]
  },
  {
   "cell_type": "markdown",
   "id": "29ee772b-c998-4073-afa1-af11dbb4861f",
   "metadata": {},
   "source": [
    "#### e)  Profit margin based on category and regions "
   ]
  },
  {
   "cell_type": "code",
   "execution_count": null,
   "id": "74dd80d5-a9f1-47ff-a386-b1911d5b66a4",
   "metadata": {},
   "outputs": [],
   "source": [
    "# Cross-tabulation Heatmap: Product Category vs Region (Profit Margin)\n",
    "ct = pd.crosstab(df['Category'], df['Region'], values=df['Profit Margin'], aggfunc='mean')\n",
    "sns.heatmap(ct, annot=True, cmap='coolwarm')\n",
    "plt.title('Average Profit Margin by Category and Region')\n",
    "plt.show()"
   ]
  },
  {
   "cell_type": "markdown",
   "id": "90bb00b3-c686-494e-b94a-61e336af351f",
   "metadata": {},
   "source": [
    "#### f) Profit prediction based on sales and discount "
   ]
  },
  {
   "cell_type": "code",
   "execution_count": 1,
   "id": "9a1c2771-db79-4b29-a1fc-0e6c67da023a",
   "metadata": {},
   "outputs": [
    {
     "name": "stdout",
     "output_type": "stream",
     "text": [
      "                            OLS Regression Results                            \n",
      "==============================================================================\n",
      "Dep. Variable:                 Profit   R-squared:                       0.272\n",
      "Model:                            OLS   Adj. R-squared:                  0.272\n",
      "Method:                 Least Squares   F-statistic:                     1866.\n",
      "Date:                Tue, 25 Feb 2025   Prob (F-statistic):               0.00\n",
      "Time:                        13:20:19   Log-Likelihood:                -67126.\n",
      "No. Observations:                9994   AIC:                         1.343e+05\n",
      "Df Residuals:                    9991   BIC:                         1.343e+05\n",
      "Df Model:                           2                                         \n",
      "Covariance Type:            nonrobust                                         \n",
      "==============================================================================\n",
      "                 coef    std err          t      P>|t|      [0.025      0.975]\n",
      "------------------------------------------------------------------------------\n",
      "const         24.3071      2.626      9.256      0.000      19.159      29.455\n",
      "Sales          0.1779      0.003     55.418      0.000       0.172       0.184\n",
      "Discount    -233.9134      9.690    -24.140      0.000    -252.908    -214.919\n",
      "==============================================================================\n",
      "Omnibus:                    14796.576   Durbin-Watson:                   1.995\n",
      "Prob(Omnibus):                  0.000   Jarque-Bera (JB):         75323744.591\n",
      "Skew:                          -8.030   Prob(JB):                         0.00\n",
      "Kurtosis:                     428.003   Cond. No.                     3.26e+03\n",
      "==============================================================================\n",
      "\n",
      "Notes:\n",
      "[1] Standard Errors assume that the covariance matrix of the errors is correctly specified.\n",
      "[2] The condition number is large, 3.26e+03. This might indicate that there are\n",
      "strong multicollinearity or other numerical problems.\n"
     ]
    }
   ],
   "source": [
    " # profit prediction based on sales and discount\n",
    "import pandas as pd \n",
    "df = pd.read_csv(r\"C:/Users/Espadon/Desktop/Sample _Superstore.csv\", encoding='ISO-8859-1')\n",
    "df.head()\n",
    "import statsmodels.api as sm\n",
    "X = df[['Sales', 'Discount']]\n",
    "X = sm.add_constant(X)\n",
    "y = df['Profit']\n",
    "model = sm.OLS(y, X).fit()\n",
    "print(model.summary())"
   ]
  },
  {
   "cell_type": "code",
   "execution_count": null,
   "id": "774a493b-b9d6-483a-af99-a3d6ed2bbd1c",
   "metadata": {},
   "outputs": [],
   "source": []
  }
 ],
 "metadata": {
  "kernelspec": {
   "display_name": "Python 3 (ipykernel)",
   "language": "python",
   "name": "python3"
  },
  "language_info": {
   "codemirror_mode": {
    "name": "ipython",
    "version": 3
   },
   "file_extension": ".py",
   "mimetype": "text/x-python",
   "name": "python",
   "nbconvert_exporter": "python",
   "pygments_lexer": "ipython3",
   "version": "3.11.7"
  }
 },
 "nbformat": 4,
 "nbformat_minor": 5
}
